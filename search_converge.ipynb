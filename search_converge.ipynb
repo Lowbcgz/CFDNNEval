{
 "cells": [
  {
   "cell_type": "code",
   "execution_count": 2,
   "metadata": {},
   "outputs": [],
   "source": [
    "import numpy as np"
   ]
  },
  {
   "cell_type": "code",
   "execution_count": 3,
   "metadata": {},
   "outputs": [],
   "source": [
    "def search_converge(loss_curve, ftol=-1, frtol=5e-3, max_count=1000, max_window=5000):\n",
    "    \"\"\"\n",
    "    ftol: Searching is terminated if the loss decrease is less than ftol, -1 means ignored\n",
    "    frtol: Searching is terminated if the relative loss decrease is less than frtol, -1 means ignored\n",
    "    max_count: If ftol or frtol is reach, tolerate it until `max_count` is reached\n",
    "    max_window: The searching window to detect a loss decrease.\n",
    "        Searching is terminated if a decrease does not happen within the searching window \n",
    "    \"\"\"\n",
    "    loss_curve=np.array(loss_curve)\n",
    "    assert loss_curve.ndim == 1\n",
    "    def check(best,now,counter):\n",
    "        info=0\n",
    "        if frtol>0:\n",
    "            if now<=best*(1-frtol):\n",
    "                counter=0\n",
    "            else:\n",
    "                counter+=1\n",
    "                if counter >= max_count:\n",
    "                    info=1\n",
    "        if ftol>0:\n",
    "            if best-now< ftol:\n",
    "                counter=0\n",
    "            else:\n",
    "                counter+=1\n",
    "                if counter >= max_count:\n",
    "                    info=1\n",
    "        return info, counter\n",
    "\n",
    "    # initialize\n",
    "    counter=0\n",
    "    accepte=0\n",
    "    info=0\n",
    "    for i, now in enumerate(loss_curve):\n",
    "        if i==0:\n",
    "            best=now\n",
    "            best_i=i\n",
    "            accepte=1\n",
    "        else:\n",
    "            if now < best:\n",
    "                info, counter = check(best, now, counter)\n",
    "                if counter==0:\n",
    "                    best=now\n",
    "                    best_i=i\n",
    "                accepte=1\n",
    "            else:\n",
    "                accepte-=1\n",
    "\n",
    "        if accepte < -max_window:\n",
    "            info=1\n",
    "        if info==1:\n",
    "            return best_i             \n",
    "    return best_i"
   ]
  },
  {
   "cell_type": "code",
   "execution_count": 21,
   "metadata": {},
   "outputs": [
    {
     "name": "stdout",
     "output_type": "stream",
     "text": [
      "(100,)\n",
      "[3.95127957e-02 2.26596327e-03 1.16140165e-03 8.31614984e-04\n",
      " 2.60363403e-04 1.28754231e-04 9.66086855e-05 8.15156429e-05\n",
      " 7.06865976e-05 6.64897901e-05 5.96844937e-05 5.21406212e-05\n",
      " 5.09033016e-05 4.49109640e-05 4.34844147e-05 3.95619357e-05\n",
      " 3.57656990e-05 3.38129690e-05 3.11930192e-05 3.04046486e-05\n",
      " 2.47195109e-05 3.87541838e-05 1.56019253e-05 2.12109747e-05\n",
      " 1.84031546e-05 1.86413312e-05 1.82018626e-05 1.46834519e-05\n",
      " 1.59889403e-05 1.49334643e-05 1.34504784e-05 1.16015196e-05\n",
      " 2.00128239e-05 7.48691206e-06 8.20327363e-06 8.62043112e-06\n",
      " 8.79477909e-06 7.51211954e-06 6.69145871e-06 6.79277209e-06\n",
      " 6.00627371e-06 7.52378587e-06 4.96335248e-06 5.01564673e-06\n",
      " 4.52277602e-06 4.34365705e-06 4.55631114e-06 2.95894076e-06\n",
      " 3.32322834e-06 3.23853792e-06 3.18999142e-06 2.67605992e-06\n",
      " 2.88015156e-06 2.73972508e-06 2.15041502e-06 2.06091684e-06\n",
      " 1.92262004e-06 2.01653060e-06 1.50763730e-06 1.46762659e-06\n",
      " 1.50573473e-06 1.34209776e-06 9.73107258e-07 1.15142680e-06\n",
      " 9.11766699e-07 9.03834931e-07 7.70417947e-07 6.90923012e-07\n",
      " 6.97101488e-07 5.66332710e-07 5.37592637e-07 5.21092667e-07\n",
      " 4.31842826e-07 4.04744905e-07 3.78255963e-07 3.58845338e-07\n",
      " 3.29189090e-07 3.06358459e-07 2.97853886e-07 2.61985518e-07\n",
      " 2.56410331e-07 2.44916253e-07 2.33836479e-07 2.23192359e-07\n",
      " 2.13061497e-07 2.06061931e-07 2.01386397e-07 1.96050575e-07\n",
      " 1.91711561e-07 1.87518879e-07 1.84410882e-07 1.81829260e-07\n",
      " 1.79190391e-07 1.77225265e-07 1.75771814e-07 1.74491208e-07\n",
      " 1.73265415e-07 1.72573944e-07 1.72227882e-07 1.72073157e-07]\n"
     ]
    },
    {
     "data": {
      "text/plain": [
       "98"
      ]
     },
     "execution_count": 21,
     "metadata": {},
     "output_type": "execute_result"
    }
   ],
   "source": [
    "model = 'OFormer'\n",
    "flow  = 'cavity'\n",
    "case  = 'ReD'\n",
    "\n",
    "pth = f'./log/loss/{model}{flow}_{case}_loss_history.npy'\n",
    "loss_curve = np.load(pth)\n",
    "print(loss_curve.shape)\n",
    "print(loss_curve)\n",
    "\n",
    "idx = search_converge(loss_curve, frtol=e-3, max_count=10, max_window=50)\n",
    "idx"
   ]
  },
  {
   "cell_type": "code",
   "execution_count": null,
   "metadata": {},
   "outputs": [],
   "source": []
  }
 ],
 "metadata": {
  "kernelspec": {
   "display_name": "torch38",
   "language": "python",
   "name": "python3"
  },
  "language_info": {
   "codemirror_mode": {
    "name": "ipython",
    "version": 3
   },
   "file_extension": ".py",
   "mimetype": "text/x-python",
   "name": "python",
   "nbconvert_exporter": "python",
   "pygments_lexer": "ipython3",
   "version": "3.8.17"
  }
 },
 "nbformat": 4,
 "nbformat_minor": 2
}
